{
 "cells": [
  {
   "cell_type": "markdown",
   "id": "7415daed",
   "metadata": {},
   "source": [
    "# GUI_MOVIE_RATING_ANALYSIS"
   ]
  },
  {
   "cell_type": "code",
   "execution_count": 1,
   "id": "5df28fc1",
   "metadata": {},
   "outputs": [
    {
     "name": "stderr",
     "output_type": "stream",
     "text": [
      "C:\\Users\\KIIT\\AppData\\Local\\Temp\\ipykernel_18672\\1670785299.py:48: DeprecationWarning: ANTIALIAS is deprecated and will be removed in Pillow 10 (2023-07-01). Use LANCZOS or Resampling.LANCZOS instead.\n",
      "  image = image.resize((600, 600), Image.ANTIALIAS)  # Resize image if necessary\n"
     ]
    }
   ],
   "source": [
    "import tkinter as tk\n",
    "from tkinter import *\n",
    "from PIL import Image, ImageTk\n",
    "import os\n",
    "\n",
    "class movieanalysis:\n",
    "    def __init__(self, root):\n",
    "        self.root = root\n",
    "        self.root.title('MOVIE ANALYSIS')\n",
    "        self.root.geometry(\"1545x800+0+0\")\n",
    "\n",
    "        def open_notebook():\n",
    "            os.system('TTL_PROJECT.ipynb')\n",
    "\n",
    "        lbtitle = Button(self.root, bd=10, relief=RIDGE, text=\"MOVIE RATING ANALYSIS\", fg=\"BLACK\", bg=\"LIGHTGREY\", font=(\"times new roman\", 30, \"bold\"), padx=2, pady=5, command=open_notebook)\n",
    "        lbtitle.pack(side=TOP, fill=X)\n",
    "\n",
    "        DataFrame_left = Frame(self.root, bd=10, relief=RIDGE, padx=10, bg=\"SKYBLUE\")\n",
    "        DataFrame_left.place(x=0, y=100, width=800, height=800)\n",
    "\n",
    "        Button1 = Button(DataFrame_left, bd=5, relief=RIDGE, padx=5, bg=\"lightgrey\", font=(\"times new roman\", 12, \"bold\"), text=\"CLASSIFICATION OF MOVIES BASED ON RATINGS\", command=lambda: self.show_image(\"ClassficationbasedonRatings.png\"))\n",
    "        Button1.place(x=40, y=60, width=500, height=50)\n",
    "\n",
    "        Button2 = Button(DataFrame_left, bd=5, relief=RIDGE, padx=5, bg=\"lightgrey\", font=(\"times new roman\", 12, \"bold\"), text=\"AVERAGE RATING OF MOVIES YEAR WISE\", command=lambda: self.show_image(\"AverageRatingofMovies.png\"))\n",
    "        Button2.place(x=40, y=160, width=500, height=50)\n",
    "\n",
    "        Button3 = Button(DataFrame_left, bd=5, relief=RIDGE, padx=5, bg=\"lightgrey\", font=(\"times new roman\", 12, \"bold\"), text=\"CLASSIFICATION OF MOVIES BASED ON GENRE\", command=lambda: self.show_image(\"ClassificationofMoviesbyGenre.png\"))\n",
    "        Button3.place(x=40, y=260, width=500, height=50)\n",
    "\n",
    "        Button4 = Button(DataFrame_left, bd=5, relief=RIDGE, padx=5, bg=\"lightgrey\", font=(\"times new roman\", 12, \"bold\"), text=\"TOP 10 HIGHEST RATED MOVIES\", command=lambda: self.show_image(\"Top10HighestRatedmovietitles.png\"))\n",
    "        Button4.place(x=40, y=360, width=500, height=50)\n",
    "\n",
    "        Button5 = Button(DataFrame_left, bd=5, relief=RIDGE, padx=5, bg=\"lightgrey\", font=(\"times new roman\", 12, \"bold\"), text=\"TOP 10 HIGHEST REVENUE MOVIES\", command=lambda: self.show_image(\"Top10HighestRevenuemovietitles.png\"))\n",
    "        Button5.place(x=40, y=460, width=500, height=50)\n",
    "\n",
    "        Button6 = Button(DataFrame_left, bd=5, relief=RIDGE, padx=5, bg=\"lightgrey\", font=(\"times new roman\", 12, \"bold\"), text=\"DOES RATING AFFECT REVENUE ?\", command=lambda: self.show_image(\"DoesRatingaffectRevenue.png\"))\n",
    "        Button6.place(x=40, y=560, width=500, height=50)\n",
    "\n",
    "        DataFrame_right = Frame(self.root, bd=10, relief=RIDGE, padx=10, bg=\"white\")\n",
    "        DataFrame_right.place(x=800, y=100, width=800, height=800)\n",
    "\n",
    "        self.image_label = Label(DataFrame_right)\n",
    "        self.image_label.pack()\n",
    "\n",
    "    def show_image(self, image_path):\n",
    "        # Load image\n",
    "        image = Image.open(image_path)\n",
    "        image = image.resize((600, 600), Image.ANTIALIAS)  # Resize image if necessary\n",
    "\n",
    "        # Convert image to Tkinter PhotoImage\n",
    "        photo = ImageTk.PhotoImage(image)\n",
    "\n",
    "        # Update Label with the new image\n",
    "        self.image_label.configure(image=photo)\n",
    "        self.image_label.image = photo\n",
    "\n",
    "\n",
    "root = Tk()\n",
    "obj = movieanalysis(root)\n",
    "root.mainloop()\n"
   ]
  },
  {
   "cell_type": "code",
   "execution_count": null,
   "id": "b429d08b",
   "metadata": {},
   "outputs": [],
   "source": []
  }
 ],
 "metadata": {
  "kernelspec": {
   "display_name": "Python 3 (ipykernel)",
   "language": "python",
   "name": "python3"
  },
  "language_info": {
   "codemirror_mode": {
    "name": "ipython",
    "version": 3
   },
   "file_extension": ".py",
   "mimetype": "text/x-python",
   "name": "python",
   "nbconvert_exporter": "python",
   "pygments_lexer": "ipython3",
   "version": "3.10.9"
  }
 },
 "nbformat": 4,
 "nbformat_minor": 5
}
